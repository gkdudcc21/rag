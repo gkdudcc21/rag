{
 "cells": [
  {
   "cell_type": "markdown",
   "id": "e203dd03",
   "metadata": {},
   "source": [
    "1. 문서 내용 읽기\n",
    "2. 문서 분할(쪼개기)\n",
    "    - 문서를 분할하지 않으면,\n",
    "        - 토큰 수 초과로 답변을 생성하지 못할 수 있음\n",
    "        - 문서 길이(input)가 길어서 답변 생성에 시간 소요됨 -> 답변 늦어짐\n",
    "3. 임베딩 -> 벡터 데이터베이스에 저장 \n",
    "4. 질문이 있으면, 벡터 데이터베이스에 유사도 검색\n",
    "5. 유사도 검색으로 가져온 문서를 LLM에 질문과 같이 전달"
   ]
  },
  {
   "cell_type": "code",
   "execution_count": null,
   "id": "4c82c6e6",
   "metadata": {},
   "outputs": [
    {
     "name": "stdout",
     "output_type": "stream",
     "text": [
      "Note: you may need to restart the kernel to use updated packages.\n"
     ]
    }
   ],
   "source": [
    "## 패키지/라이브러리 설치\n",
    "# %pip install -qU docx2txt langchain_community langchain-text-splitters langchain-chroma"
   ]
  },
  {
   "cell_type": "code",
   "execution_count": null,
   "id": "e9b7d7ac",
   "metadata": {},
   "outputs": [
    {
     "data": {
      "text/plain": [
       "AIMessage(content='전세사기피해자에 대한 금융지원은 전세사기피해자법에 따라 국가 및 지방자치단체가 제공하는 다양한 형태의 지원을 포함합니다. 주요 내용은 다음과 같습니다:\\n\\n1. **자금 융자**: 국가 및 지방자치단체는 전세사기피해자 및 관련 요건을 충족한 임차인의 긴급한 주거 안정을 위해 필요한 자금을 융자하거나 필요한 지원을 할 수 있습니다.\\n\\n2. **주택도시기금을 통한 융자**: 전세사기피해자가 「주택임대차보호법」에 따른 우선변제를 받지 못해 시급한 지원이 필요하다고 인정되는 경우, 주택도시기금에서 필요한 자금을 융자할 수 있습니다.\\n\\n3. **대출 등록 유예 및 삭제**: 전세사기피해자가 보증금을 모두 변제받지 못한 경우, 금융회사 등은 신용정보법에 따라 해당 전세 관련 대출에 대한 채무 불이행 및 대위변제의 등록을 유예하거나 삭제할 수 있습니다.\\n\\n4. **주택저당채권대상 확대**: 전세사기피해자 및 관련 임차인에 대해 주택저당채권대상에 준주택으로 사용되는 오피스텔도 포함됩니다.\\n\\n이러한 금융지원은 전세사기피해자의 주거 안정을 도모하고, 피해를 줄이기 위한 중요한 수단으로 활용됩니다.', additional_kwargs={'refusal': None}, response_metadata={'token_usage': {'completion_tokens': 330, 'prompt_tokens': 4167, 'total_tokens': 4497, 'completion_tokens_details': {'accepted_prediction_tokens': 0, 'audio_tokens': 0, 'reasoning_tokens': 0, 'rejected_prediction_tokens': 0}, 'prompt_tokens_details': {'audio_tokens': 0, 'cached_tokens': 0}}, 'model_name': 'gpt-4o-2024-08-06', 'system_fingerprint': 'fp_07871e2ad8', 'id': 'chatcmpl-BdtEx0NfVX619DgzWTAdHQjd7pbcT', 'finish_reason': 'stop', 'logprobs': None}, id='run--b08e2f57-fc0b-42c5-b944-f723184a27c3-0', usage_metadata={'input_tokens': 4167, 'output_tokens': 330, 'total_tokens': 4497, 'input_token_details': {'audio': 0, 'cache_read': 0}, 'output_token_details': {'audio': 0, 'reasoning': 0}})"
      ]
     },
     "execution_count": 1,
     "metadata": {},
     "output_type": "execute_result"
    }
   ],
   "source": [
    "from dotenv import load_dotenv\n",
    "from langchain_openai import OpenAIEmbeddings, ChatOpenAI\n",
    "from langchain_chroma import Chroma\n",
    "from langchain_text_splitters import RecursiveCharacterTextSplitter\n",
    "from langchain_community.document_loaders import Docx2txtLoader\n",
    "\n",
    "\n",
    "## 1. 문서 내용 읽기고 분할 #################################################\n",
    "loader = Docx2txtLoader('law_1.docx')\n",
    "\n",
    "text_splitter = RecursiveCharacterTextSplitter(\n",
    "    chunk_size=1500,\n",
    "    chunk_overlap=200,\n",
    ")\n",
    "\n",
    "document_list = loader.load_and_split(text_splitter=text_splitter)\n",
    "\n",
    "## 2. 임베딩 -> 백터 데이터베이스에 저장 ####################################\n",
    "## 2.1. 환경변수 읽어오기\n",
    "load_dotenv()\n",
    "\n",
    "## 2.2. 임베딩 모델 지정  \n",
    "embedding = OpenAIEmbeddings(model=\"text-embedding-3-large\")\n",
    "\n",
    "## 2.3 벡터 데이터베이스에 저장\n",
    "## [방법 1] in memory\n",
    "database = Chroma.from_documents(\n",
    "    documents=document_list,\n",
    "    embedding=embedding,\n",
    ")\n",
    "\n",
    "## 3. 질문이 있으면, 벡터 데이터베이스에서 유사도 검색 ######################\n",
    "# 3.1. 사용자 질문\n",
    "query = '전세사기피해자 금융지원에 대해 설명해주세요.'\n",
    "\n",
    "## 3.2. 벡터 데이터베이스에서 유사도 검색\n",
    "retrieved_docs = database.similarity_search(query=query)\n",
    "\n",
    "## 4. 유사도 검색으로 가져온 문서를 LLM에 질문과 같이 전달 ###################\n",
    "## 4.1. 프롬프트 작성  \n",
    "prompt = '''\n",
    "[identity]\n",
    "- 당신은 전세사기피해 법률 전문가입니다.\n",
    "-[context]를 참고하여 사용자의 질문에 답변해주세요.\n",
    "\n",
    "[context]\n",
    "{retrieved_docs}\n",
    "\n",
    "Question : {query}\n",
    "'''\n",
    "\n",
    "## 4.2. 프롬프트 변수에 값 설정\n",
    "formatted_prompt = prompt.format(retrieved_docs=retrieved_docs, query=query)\n",
    "\n",
    "## 4.3. LLM 모델 생성(ChatOpenAI 인스턴스 생성)\n",
    "llm = ChatOpenAI(model='gpt-4o')\n",
    "\n",
    "## 4.4. LLM 모델에 질문과 검색된 문서를 보냄  \n",
    "ai_message = llm.invoke(formatted_prompt)\n",
    "ai_message"
   ]
  }
 ],
 "metadata": {
  "kernelspec": {
   "display_name": "project",
   "language": "python",
   "name": "python3"
  },
  "language_info": {
   "codemirror_mode": {
    "name": "ipython",
    "version": 3
   },
   "file_extension": ".py",
   "mimetype": "text/x-python",
   "name": "python",
   "nbconvert_exporter": "python",
   "pygments_lexer": "ipython3",
   "version": "3.10.12"
  }
 },
 "nbformat": 4,
 "nbformat_minor": 5
}
