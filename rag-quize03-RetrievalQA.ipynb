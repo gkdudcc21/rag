{
 "cells": [
  {
   "cell_type": "markdown",
   "id": "6145840c",
   "metadata": {},
   "source": [
    "## law_1.docx\n",
    "- pinecone store 저장\n",
    "    - index name: 임의\n",
    "- RetrievalQA 구현\n",
    "    - prompt: rlm/rag-prompt\n",
    "    - 질문: 전세사기"
   ]
  },
  {
   "cell_type": "code",
   "execution_count": 7,
   "id": "5d3e78e7",
   "metadata": {},
   "outputs": [
    {
     "data": {
      "text/plain": [
       "'전세사기피해자 임대인은 전세사기피해자법에 정의된 \"임대인등\"에 포함됩니다. \"임대인등\"은 임대인, 임대인의 대리인, 임대인의 공인중개사, 임차인 모집자, 다수 임대인의 배후에 있는 동일인, 그리고 이에 경제적 이익을 공유하는 조직 등을 포함합니다. 이들이 전세사기 피해의 임대인으로 여겨질 수 있습니다.'"
      ]
     },
     "execution_count": 7,
     "metadata": {},
     "output_type": "execute_result"
    }
   ],
   "source": [
    "import os\n",
    "\n",
    "from dotenv import load_dotenv\n",
    "from langchain import hub\n",
    "from langchain_community.document_loaders import Docx2txtLoader\n",
    "from langchain_core.output_parsers import StrOutputParser\n",
    "from langchain_core.runnables import RunnablePassthrough\n",
    "from langchain_openai import ChatOpenAI, OpenAIEmbeddings\n",
    "from langchain_pinecone import PineconeVectorStore\n",
    "from langchain_text_splitters import RecursiveCharacterTextSplitter\n",
    "from pinecone import Pinecone\n",
    "\n",
    "\n",
    "## 환경변수 읽어오기\n",
    "load_dotenv()\n",
    "PINECONE_API_KEY = os.getenv('PINECONE_API_KEY')\n",
    "LANGCHAIN_API_KEY = os.getenv('LANGCHAIN_API_KEY')\n",
    "\n",
    "## 문서 읽고 분할\n",
    "# loader = Docx2txtLoader('law_1.docx')\n",
    "\n",
    "# text_splitter = RecursiveCharacterTextSplitter(\n",
    "#     chunk_size=1500,\n",
    "#     chunk_overlap=200,\n",
    "# )\n",
    "\n",
    "# document_list = loader.load_and_split(text_splitter=text_splitter)\n",
    "\n",
    "## 임베딩 -> 백터 스토어(데이터베이스)에 저장\n",
    "## 임베딩 모델 지정\n",
    "embedding = OpenAIEmbeddings(model=\"text-embedding-3-large\")\n",
    "pc = Pinecone(api_key=PINECONE_API_KEY)\n",
    "index_name = 'law-quize01-index'\n",
    "\n",
    "## 파이콘: 저장\n",
    "# database = PineconeVectorStore.from_documents(\n",
    "#     documents=document_list,\n",
    "#     embedding=embedding,\n",
    "#     index_name='law-quize01-index',\n",
    "# )\n",
    "\n",
    "## 저장된 인덱스 가져오기\n",
    "## [방법 1]\n",
    "# database = PineconeVectorStore(\n",
    "#     index=pc.Index(index_name),\n",
    "#     embedding=embedding,\n",
    "# )\n",
    "\n",
    "## [방법 2]\n",
    "database = PineconeVectorStore.from_existing_index(\n",
    "    index_name=index_name,\n",
    "    embedding=embedding,\n",
    ")\n",
    "\n",
    "## RetrievalQA\n",
    "llm = ChatOpenAI(model='gpt-4o')\n",
    "prompt = hub.pull('rlm/rag-prompt')\n",
    "\n",
    "def format_docs(docs):\n",
    "    return \"\\n\\n\".join(doc.page_content for doc in docs)\n",
    "\n",
    "qa_chain =  (\n",
    "    {\n",
    "        'context': database.as_retriever() | format_docs,\n",
    "        'question':RunnablePassthrough(),\n",
    "    }\n",
    "    | prompt\n",
    "    | llm\n",
    "    | StrOutputParser()\n",
    ")\n",
    "\n",
    "# qa_chain.invoke('전세사기피해자 금융지원에 대해 설명해주세요.')\n",
    "qa_chain.invoke('전세사기피해자 임대인을 알려주세요')"
   ]
  },
  {
   "cell_type": "code",
   "execution_count": 8,
   "id": "a0f8cce4",
   "metadata": {},
   "outputs": [
    {
     "data": {
      "text/plain": [
       "'전세사기피해자에 대한 금융지원은 국가와 지방자치단체가 전세사기 피해자에게 필요한 자금을 융자하거나 지원하는 것을 포함합니다. 주택도시기금에서 전세사기 피해자에게 주택의 임대차에 필요한 자금을 융자할 수 있습니다. 또한, 금융회사는 피해자의 전세 관련 대출에 대한 채무 불이행 등록을 유예하거나 삭제할 수 있는 지원을 제공합니다.'"
      ]
     },
     "execution_count": 8,
     "metadata": {},
     "output_type": "execute_result"
    }
   ],
   "source": [
    "import os\n",
    "\n",
    "from dotenv import load_dotenv\n",
    "from langchain import hub\n",
    "from langchain_core.output_parsers import StrOutputParser\n",
    "from langchain_core.runnables import RunnablePassthrough\n",
    "from langchain_openai import ChatOpenAI, OpenAIEmbeddings\n",
    "from langchain_pinecone import PineconeVectorStore\n",
    "from pinecone import Pinecone\n",
    "\n",
    "\n",
    "## 환경변수 읽어오기 ########################################################\n",
    "load_dotenv()\n",
    "PINECONE_API_KEY = os.getenv('PINECONE_API_KEY')\n",
    "LANGCHAIN_API_KEY = os.getenv('LANGCHAIN_API_KEY')\n",
    "\n",
    "## 백터 스토어(데이터베이스)에서 인덱스 가져오기 #############################\n",
    "## 임베딩 모델 지정\n",
    "embedding = OpenAIEmbeddings(model=\"text-embedding-3-large\")\n",
    "pc = Pinecone(api_key=PINECONE_API_KEY)\n",
    "index_name = 'law-quize01-index'\n",
    "\n",
    "## 저장된 인덱스 가져오기 \n",
    "database = PineconeVectorStore.from_existing_index(\n",
    "    index_name=index_name,\n",
    "    embedding=embedding,\n",
    ")\n",
    "\n",
    "## RetrievalQA #################################################################\n",
    "llm = ChatOpenAI(model='gpt-4o')\n",
    "prompt = hub.pull('rlm/rag-prompt')\n",
    "\n",
    "def format_docs(docs):\n",
    "    return \"\\n\\n\".join(doc.page_content for doc in docs)\n",
    "\n",
    "qa_chain =  (\n",
    "    {\n",
    "        'context': database.as_retriever() | format_docs,\n",
    "        'question':RunnablePassthrough(),\n",
    "    }\n",
    "    | prompt\n",
    "    | llm\n",
    "    | StrOutputParser()\n",
    ")\n",
    "\n",
    "qa_chain.invoke('전세사기피해자 금융지원에 대해 설명해주세요.')\n",
    "# qa_chain.invoke('전세사기피해자 임대인을 알려주세요')"
   ]
  }
 ],
 "metadata": {
  "kernelspec": {
   "display_name": "project",
   "language": "python",
   "name": "python3"
  },
  "language_info": {
   "codemirror_mode": {
    "name": "ipython",
    "version": 3
   },
   "file_extension": ".py",
   "mimetype": "text/x-python",
   "name": "python",
   "nbconvert_exporter": "python",
   "pygments_lexer": "ipython3",
   "version": "3.10.12"
  }
 },
 "nbformat": 4,
 "nbformat_minor": 5
}
