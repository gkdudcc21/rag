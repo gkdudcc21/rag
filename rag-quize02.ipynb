{
 "cells": [
  {
   "cell_type": "markdown",
   "id": "897b3a85",
   "metadata": {},
   "source": [
    "## 파인콘 백터 DB 저장"
   ]
  },
  {
   "cell_type": "code",
   "execution_count": 26,
   "id": "5eb40925",
   "metadata": {},
   "outputs": [
    {
     "name": "stdout",
     "output_type": "stream",
     "text": [
      "Note: you may need to restart the kernel to use updated packages.\n"
     ]
    },
    {
     "name": "stderr",
     "output_type": "stream",
     "text": [
      "WARNING: pinecone 6.0.2 does not provide the extra 'async'\n"
     ]
    }
   ],
   "source": [
    "%pip install -qU docx2txt langchain_community langchain-text-splitters langchain-chroma langchain-pinecone  pinecone pinecone "
   ]
  },
  {
   "cell_type": "code",
   "execution_count": 9,
   "id": "faa0d9ae",
   "metadata": {},
   "outputs": [
    {
     "data": {
      "text/plain": [
       "'전세사기피해주택의 가격을 구체적으로 설명하려면 여러 요소가 고려되어야 합니다. 전세사기피해주택의 가격은 주택의 위치, 면적, 상태, 시가 표준액 등 다양한 요소에 따라 달라질 수 있습니다. 이와 관련된 구체적인 사항은 감정평가법인등의 감정 평가 및 해당 법령에 따라 산정됩니다. 정확한 평가를 위해서는 전문 감정평가사와 상담하시기를 권장드립니다.'"
      ]
     },
     "execution_count": 9,
     "metadata": {},
     "output_type": "execute_result"
    }
   ],
   "source": [
    "import os\n",
    "from dotenv import load_dotenv\n",
    "from langchain_openai import ChatOpenAI, OpenAIEmbeddings\n",
    "from langchain_text_splitters import RecursiveCharacterTextSplitter\n",
    "from langchain_community.document_loaders import Docx2txtLoader\n",
    "from langchain_pinecone import PineconeVectorStore\n",
    "from pinecone import Pinecone\n",
    "\n",
    "\n",
    "## 1. 문서 내용 읽고 분할 #############################################\n",
    "loader = Docx2txtLoader('law_2.docx')\n",
    "\n",
    "text_splitter = RecursiveCharacterTextSplitter(\n",
    "    chunk_size=1500,\n",
    "    chunk_overlap=200,\n",
    ")\n",
    "\n",
    "document_list = loader.load_and_split(text_splitter=text_splitter)\n",
    "\n",
    "## 2. 임베딩 -> 벡터 데이터베이스에 저장 ###############################\n",
    "## 2.1. 환경변수 읽어오기\n",
    "load_dotenv()\n",
    "\n",
    "## 2.2. 임베딩 모델 지정\n",
    "embedding = OpenAIEmbeddings(model=\"text-embedding-3-large\")\n",
    "\n",
    "## 2.3 저장된 파이콘 인덱스 읽어오기\n",
    "# (cf) 벡터 데이터베이스에 저장\n",
    "# database = PineconeVectorStore.from_documents(\n",
    "#     documents=document_list,\n",
    "#     embedding=embedding,\n",
    "#     index_name='law02-index',\n",
    "# )\n",
    "\n",
    "api_key = os.getenv('PINECONE_API_KEY')\n",
    "pc = Pinecone(api_key=api_key)\n",
    "\n",
    "database = PineconeVectorStore(\n",
    "    index=pc.Index('law02-index'),\n",
    "    embedding=embedding\n",
    ")\n",
    "\n",
    "## 3. 질문 -> 벡터 데이터베이스(vector store)에서 유사도 검색 #############\n",
    "## 3.1. 사용자 질문\n",
    "query = '전세사기피해주택의 가격은 얼마인가요?'\n",
    "# query = '전세사기피해주택 임대인의 국세는 계산은 어떻게 하나요?'\n",
    "# query ='전세사기피해자는 누구인가요?'\n",
    "# query = '오늘 점심 메뉴 정해줘!'\n",
    "\n",
    "## 3.2. 벡터 데이터베이스에서 유사도 검색\n",
    "retrieved_docs = database.similarity_search(query=query, k=2)\n",
    "\n",
    "## 3.3 문서 객체 2개 -> 하나의 문자열\n",
    "context = '😃👌\\n'.join([doc.page_content for doc in retrieved_docs])\n",
    "\n",
    "## 4. 유사도 검색으로 가져온 문서를 LLM에 질문과 같이 전달 ###################\n",
    "## 4.1. 프롬프트 작성  \n",
    "prompt = '''\n",
    "[identity]\n",
    "- 당신은 전세사기피해 법률 전문가입니다.\n",
    "- [context]를 참고하여 사용자의 질문에 답변해주세요.\n",
    "- 전세사기피해 법률 이외의 질문에는 '답변을 할 수 없습니다.'로 답하세요.\n",
    "\n",
    "[context]\n",
    "{retrieved_docs}\n",
    "\n",
    "Question : {query}\n",
    "'''\n",
    "\n",
    "## 4.2. 프롬프트 변수에 값 설정\n",
    "formatted_prompt = prompt.format(\n",
    "    retrieved_docs=context, \n",
    "    query=query,\n",
    "    )\n",
    "\n",
    "## 4.3. LLM 모델 생성(ChatOpenAI 인스턴스 생성)\n",
    "llm = ChatOpenAI(model='gpt-4o')\n",
    "\n",
    "## 4.4. LLM 모델에 질문과 검색된 문서 보내기  \n",
    "ai_message = llm.invoke(formatted_prompt)\n",
    "ai_message.content"
   ]
  }
 ],
 "metadata": {
  "kernelspec": {
   "display_name": "project",
   "language": "python",
   "name": "python3"
  },
  "language_info": {
   "codemirror_mode": {
    "name": "ipython",
    "version": 3
   },
   "file_extension": ".py",
   "mimetype": "text/x-python",
   "name": "python",
   "nbconvert_exporter": "python",
   "pygments_lexer": "ipython3",
   "version": "3.10.12"
  }
 },
 "nbformat": 4,
 "nbformat_minor": 5
}
